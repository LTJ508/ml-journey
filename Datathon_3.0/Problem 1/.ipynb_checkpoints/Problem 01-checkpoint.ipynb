{
 "cells": [
  {
   "cell_type": "code",
   "execution_count": 1,
   "id": "fcf4c118-eed2-4cc3-a23f-8261ffed8af8",
   "metadata": {},
   "outputs": [],
   "source": [
    "import pandas as pd #importing pandas library as pd, like creating an instance of pandas"
   ]
  },
  {
   "cell_type": "code",
   "execution_count": 9,
   "id": "77a51674-aa66-42ab-83f5-1d0eaaa69ccf",
   "metadata": {},
   "outputs": [],
   "source": [
    "df_boxes = pd.read_csv('Datasets/boxes.csv') #importing box details datasets\n",
    "df_problem1 = pd.read_csv('Datasets/problem 1.csv') #importing predict datasets\n",
    "df_purchase = pd.read_csv('Datasets/purchase.csv') #importing history datasets"
   ]
  },
  {
   "cell_type": "markdown",
   "id": "312e02dd-0e3e-4e73-b397-247e00bdd41d",
   "metadata": {},
   "source": [
    "# <font color=\"red\">First checking the boxes datasets, is it clean or not</font>"
   ]
  },
  {
   "cell_type": "code",
   "execution_count": 4,
   "id": "b4796caa-0635-46f5-b784-43493f6f8d15",
   "metadata": {},
   "outputs": [
    {
     "data": {
      "text/html": [
       "<div>\n",
       "<style scoped>\n",
       "    .dataframe tbody tr th:only-of-type {\n",
       "        vertical-align: middle;\n",
       "    }\n",
       "\n",
       "    .dataframe tbody tr th {\n",
       "        vertical-align: top;\n",
       "    }\n",
       "\n",
       "    .dataframe thead th {\n",
       "        text-align: right;\n",
       "    }\n",
       "</style>\n",
       "<table border=\"1\" class=\"dataframe\">\n",
       "  <thead>\n",
       "    <tr style=\"text-align: right;\">\n",
       "      <th></th>\n",
       "      <th>BOX_ID</th>\n",
       "      <th>QUALITY</th>\n",
       "      <th>DELIVERY_OPTION</th>\n",
       "      <th>MILK</th>\n",
       "      <th>MEAT</th>\n",
       "      <th>UNIT_PRICE</th>\n",
       "    </tr>\n",
       "  </thead>\n",
       "  <tbody>\n",
       "    <tr>\n",
       "      <th>0</th>\n",
       "      <td>1</td>\n",
       "      <td>Premium</td>\n",
       "      <td>Home Delivery - CoD</td>\n",
       "      <td>0.0</td>\n",
       "      <td>2.7</td>\n",
       "      <td>9.96</td>\n",
       "    </tr>\n",
       "    <tr>\n",
       "      <th>1</th>\n",
       "      <td>2</td>\n",
       "      <td>Premium</td>\n",
       "      <td>Home Delivery - CoD</td>\n",
       "      <td>0.0</td>\n",
       "      <td>2.3</td>\n",
       "      <td>11.96</td>\n",
       "    </tr>\n",
       "    <tr>\n",
       "      <th>2</th>\n",
       "      <td>3</td>\n",
       "      <td>Premium</td>\n",
       "      <td>Home Delivery - CoD</td>\n",
       "      <td>0.0</td>\n",
       "      <td>2.4</td>\n",
       "      <td>11.96</td>\n",
       "    </tr>\n",
       "    <tr>\n",
       "      <th>3</th>\n",
       "      <td>4</td>\n",
       "      <td>Premium</td>\n",
       "      <td>Home Delivery - CoD</td>\n",
       "      <td>0.0</td>\n",
       "      <td>2.5</td>\n",
       "      <td>11.96</td>\n",
       "    </tr>\n",
       "    <tr>\n",
       "      <th>4</th>\n",
       "      <td>5</td>\n",
       "      <td>Premium</td>\n",
       "      <td>Home Delivery - CoD</td>\n",
       "      <td>0.0</td>\n",
       "      <td>2.6</td>\n",
       "      <td>11.96</td>\n",
       "    </tr>\n",
       "  </tbody>\n",
       "</table>\n",
       "</div>"
      ],
      "text/plain": [
       "   BOX_ID  QUALITY      DELIVERY_OPTION  MILK  MEAT  UNIT_PRICE\n",
       "0       1  Premium  Home Delivery - CoD   0.0   2.7        9.96\n",
       "1       2  Premium  Home Delivery - CoD   0.0   2.3       11.96\n",
       "2       3  Premium  Home Delivery - CoD   0.0   2.4       11.96\n",
       "3       4  Premium  Home Delivery - CoD   0.0   2.5       11.96\n",
       "4       5  Premium  Home Delivery - CoD   0.0   2.6       11.96"
      ]
     },
     "execution_count": 4,
     "metadata": {},
     "output_type": "execute_result"
    }
   ],
   "source": [
    "df_boxes.head() #checking collumn and head of datasets"
   ]
  },
  {
   "cell_type": "code",
   "execution_count": 5,
   "id": "c7878212-cb15-4655-9517-12afd3db3deb",
   "metadata": {},
   "outputs": [
    {
     "name": "stdout",
     "output_type": "stream",
     "text": [
      "<class 'pandas.core.frame.DataFrame'>\n",
      "RangeIndex: 290 entries, 0 to 289\n",
      "Data columns (total 6 columns):\n",
      " #   Column           Non-Null Count  Dtype  \n",
      "---  ------           --------------  -----  \n",
      " 0   BOX_ID           290 non-null    int64  \n",
      " 1   QUALITY          290 non-null    object \n",
      " 2   DELIVERY_OPTION  290 non-null    object \n",
      " 3   MILK             290 non-null    float64\n",
      " 4   MEAT             290 non-null    float64\n",
      " 5   UNIT_PRICE       290 non-null    float64\n",
      "dtypes: float64(3), int64(1), object(2)\n",
      "memory usage: 13.7+ KB\n"
     ]
    }
   ],
   "source": [
    "df_boxes.info() #checking some information"
   ]
  },
  {
   "cell_type": "markdown",
   "id": "97f0f713-0115-4c4f-8141-a8ad6b055924",
   "metadata": {},
   "source": [
    "=> no null value found and 2 collumn are in object type"
   ]
  },
  {
   "cell_type": "code",
   "execution_count": 6,
   "id": "05ff352e-e482-4259-8f9a-df4361a6daa5",
   "metadata": {},
   "outputs": [
    {
     "data": {
      "text/html": [
       "<div>\n",
       "<style scoped>\n",
       "    .dataframe tbody tr th:only-of-type {\n",
       "        vertical-align: middle;\n",
       "    }\n",
       "\n",
       "    .dataframe tbody tr th {\n",
       "        vertical-align: top;\n",
       "    }\n",
       "\n",
       "    .dataframe thead th {\n",
       "        text-align: right;\n",
       "    }\n",
       "</style>\n",
       "<table border=\"1\" class=\"dataframe\">\n",
       "  <thead>\n",
       "    <tr style=\"text-align: right;\">\n",
       "      <th></th>\n",
       "      <th>BOX_ID</th>\n",
       "      <th>MILK</th>\n",
       "      <th>MEAT</th>\n",
       "      <th>UNIT_PRICE</th>\n",
       "    </tr>\n",
       "  </thead>\n",
       "  <tbody>\n",
       "    <tr>\n",
       "      <th>count</th>\n",
       "      <td>290.000000</td>\n",
       "      <td>290.000000</td>\n",
       "      <td>290.000000</td>\n",
       "      <td>290.000000</td>\n",
       "    </tr>\n",
       "    <tr>\n",
       "      <th>mean</th>\n",
       "      <td>145.500000</td>\n",
       "      <td>7.567586</td>\n",
       "      <td>2.248966</td>\n",
       "      <td>15.783655</td>\n",
       "    </tr>\n",
       "    <tr>\n",
       "      <th>std</th>\n",
       "      <td>83.860002</td>\n",
       "      <td>6.397381</td>\n",
       "      <td>1.151447</td>\n",
       "      <td>4.098064</td>\n",
       "    </tr>\n",
       "    <tr>\n",
       "      <th>min</th>\n",
       "      <td>1.000000</td>\n",
       "      <td>0.000000</td>\n",
       "      <td>0.000000</td>\n",
       "      <td>5.560000</td>\n",
       "    </tr>\n",
       "    <tr>\n",
       "      <th>25%</th>\n",
       "      <td>73.250000</td>\n",
       "      <td>0.000000</td>\n",
       "      <td>1.800000</td>\n",
       "      <td>12.825000</td>\n",
       "    </tr>\n",
       "    <tr>\n",
       "      <th>50%</th>\n",
       "      <td>145.500000</td>\n",
       "      <td>9.000000</td>\n",
       "      <td>2.300000</td>\n",
       "      <td>15.960000</td>\n",
       "    </tr>\n",
       "    <tr>\n",
       "      <th>75%</th>\n",
       "      <td>217.750000</td>\n",
       "      <td>12.000000</td>\n",
       "      <td>2.900000</td>\n",
       "      <td>19.980000</td>\n",
       "    </tr>\n",
       "    <tr>\n",
       "      <th>max</th>\n",
       "      <td>290.000000</td>\n",
       "      <td>24.000000</td>\n",
       "      <td>5.800000</td>\n",
       "      <td>23.980000</td>\n",
       "    </tr>\n",
       "  </tbody>\n",
       "</table>\n",
       "</div>"
      ],
      "text/plain": [
       "           BOX_ID        MILK        MEAT  UNIT_PRICE\n",
       "count  290.000000  290.000000  290.000000  290.000000\n",
       "mean   145.500000    7.567586    2.248966   15.783655\n",
       "std     83.860002    6.397381    1.151447    4.098064\n",
       "min      1.000000    0.000000    0.000000    5.560000\n",
       "25%     73.250000    0.000000    1.800000   12.825000\n",
       "50%    145.500000    9.000000    2.300000   15.960000\n",
       "75%    217.750000   12.000000    2.900000   19.980000\n",
       "max    290.000000   24.000000    5.800000   23.980000"
      ]
     },
     "execution_count": 6,
     "metadata": {},
     "output_type": "execute_result"
    }
   ],
   "source": [
    "df_boxes.describe() #checking min, max, mean, quartile"
   ]
  },
  {
   "cell_type": "code",
   "execution_count": 8,
   "id": "a6d80c48-48d7-4e70-b6a4-59a41fa3e005",
   "metadata": {},
   "outputs": [
    {
     "data": {
      "text/plain": [
       "290"
      ]
     },
     "execution_count": 8,
     "metadata": {},
     "output_type": "execute_result"
    }
   ],
   "source": [
    "df_boxes['BOX_ID'].nunique()"
   ]
  },
  {
   "cell_type": "markdown",
   "id": "f6d7c915-06c6-4f97-8a7a-79114e5354bb",
   "metadata": {},
   "source": [
    "=> so there are 1-290 box in total, no outlier here. full clean"
   ]
  },
  {
   "cell_type": "markdown",
   "id": "4c43959c-253f-4286-9775-a2dd772356ac",
   "metadata": {},
   "source": [
    "# <font color=\"red\">Checking Problem one dataset</font>"
   ]
  },
  {
   "cell_type": "code",
   "execution_count": 10,
   "id": "d7e33577-ccd6-4a93-86f9-bf27fad9480a",
   "metadata": {},
   "outputs": [
    {
     "data": {
      "text/html": [
       "<div>\n",
       "<style scoped>\n",
       "    .dataframe tbody tr th:only-of-type {\n",
       "        vertical-align: middle;\n",
       "    }\n",
       "\n",
       "    .dataframe tbody tr th {\n",
       "        vertical-align: top;\n",
       "    }\n",
       "\n",
       "    .dataframe thead th {\n",
       "        text-align: right;\n",
       "    }\n",
       "</style>\n",
       "<table border=\"1\" class=\"dataframe\">\n",
       "  <thead>\n",
       "    <tr style=\"text-align: right;\">\n",
       "      <th></th>\n",
       "      <th>MAGIC_KEY</th>\n",
       "    </tr>\n",
       "  </thead>\n",
       "  <tbody>\n",
       "    <tr>\n",
       "      <th>0</th>\n",
       "      <td>28D5BB06356</td>\n",
       "    </tr>\n",
       "    <tr>\n",
       "      <th>1</th>\n",
       "      <td>293BEAB4E98</td>\n",
       "    </tr>\n",
       "    <tr>\n",
       "      <th>2</th>\n",
       "      <td>2962EE8065C</td>\n",
       "    </tr>\n",
       "    <tr>\n",
       "      <th>3</th>\n",
       "      <td>2957BE29EA9</td>\n",
       "    </tr>\n",
       "    <tr>\n",
       "      <th>4</th>\n",
       "      <td>28E351A0745</td>\n",
       "    </tr>\n",
       "  </tbody>\n",
       "</table>\n",
       "</div>"
      ],
      "text/plain": [
       "     MAGIC_KEY\n",
       "0  28D5BB06356\n",
       "1  293BEAB4E98\n",
       "2  2962EE8065C\n",
       "3  2957BE29EA9\n",
       "4  28E351A0745"
      ]
     },
     "execution_count": 10,
     "metadata": {},
     "output_type": "execute_result"
    }
   ],
   "source": [
    "df_problem1.head()"
   ]
  },
  {
   "cell_type": "code",
   "execution_count": 11,
   "id": "d753b09b-83ca-4a9c-9fd4-12a0fd531e07",
   "metadata": {},
   "outputs": [
    {
     "name": "stdout",
     "output_type": "stream",
     "text": [
      "<class 'pandas.core.frame.DataFrame'>\n",
      "RangeIndex: 58689 entries, 0 to 58688\n",
      "Data columns (total 1 columns):\n",
      " #   Column     Non-Null Count  Dtype \n",
      "---  ------     --------------  ----- \n",
      " 0   MAGIC_KEY  58689 non-null  object\n",
      "dtypes: object(1)\n",
      "memory usage: 458.6+ KB\n"
     ]
    }
   ],
   "source": [
    "df_problem1.info()"
   ]
  },
  {
   "cell_type": "markdown",
   "id": "51040ce8-88aa-4766-b050-2b43a6218fbb",
   "metadata": {},
   "source": [
    "=> so total 58689 MAGIC_KEY, we need to predict for them"
   ]
  },
  {
   "cell_type": "markdown",
   "id": "2de9d5b5-a1b1-4242-8942-0dce2b924c1a",
   "metadata": {},
   "source": [
    "# <font color=\"red\">Checking Purchase history</font>"
   ]
  },
  {
   "cell_type": "code",
   "execution_count": 12,
   "id": "ad354c3a-9862-405c-985a-b33817b4226c",
   "metadata": {},
   "outputs": [
    {
     "data": {
      "text/html": [
       "<div>\n",
       "<style scoped>\n",
       "    .dataframe tbody tr th:only-of-type {\n",
       "        vertical-align: middle;\n",
       "    }\n",
       "\n",
       "    .dataframe tbody tr th {\n",
       "        vertical-align: top;\n",
       "    }\n",
       "\n",
       "    .dataframe thead th {\n",
       "        text-align: right;\n",
       "    }\n",
       "</style>\n",
       "<table border=\"1\" class=\"dataframe\">\n",
       "  <thead>\n",
       "    <tr style=\"text-align: right;\">\n",
       "      <th></th>\n",
       "      <th>PURCHASE_DATE</th>\n",
       "      <th>MAGIC_KEY</th>\n",
       "      <th>BOX_ID</th>\n",
       "      <th>BOX_COUNT</th>\n",
       "    </tr>\n",
       "  </thead>\n",
       "  <tbody>\n",
       "    <tr>\n",
       "      <th>0</th>\n",
       "      <td>1/2/2019</td>\n",
       "      <td>2CED678A247</td>\n",
       "      <td>12.0</td>\n",
       "      <td>1.0</td>\n",
       "    </tr>\n",
       "    <tr>\n",
       "      <th>1</th>\n",
       "      <td>1/2/2019</td>\n",
       "      <td>2BF58D91BA1</td>\n",
       "      <td>12.0</td>\n",
       "      <td>1.0</td>\n",
       "    </tr>\n",
       "    <tr>\n",
       "      <th>2</th>\n",
       "      <td>1/2/2019</td>\n",
       "      <td>2C15B86534E</td>\n",
       "      <td>99.0</td>\n",
       "      <td>1.0</td>\n",
       "    </tr>\n",
       "    <tr>\n",
       "      <th>3</th>\n",
       "      <td>1/2/2019</td>\n",
       "      <td>2C32D9A859A</td>\n",
       "      <td>6.0</td>\n",
       "      <td>1.0</td>\n",
       "    </tr>\n",
       "    <tr>\n",
       "      <th>4</th>\n",
       "      <td>1/2/2019</td>\n",
       "      <td>2C7A55404D1</td>\n",
       "      <td>4.0</td>\n",
       "      <td>1.0</td>\n",
       "    </tr>\n",
       "  </tbody>\n",
       "</table>\n",
       "</div>"
      ],
      "text/plain": [
       "  PURCHASE_DATE    MAGIC_KEY  BOX_ID  BOX_COUNT\n",
       "0      1/2/2019  2CED678A247    12.0        1.0\n",
       "1      1/2/2019  2BF58D91BA1    12.0        1.0\n",
       "2      1/2/2019  2C15B86534E    99.0        1.0\n",
       "3      1/2/2019  2C32D9A859A     6.0        1.0\n",
       "4      1/2/2019  2C7A55404D1     4.0        1.0"
      ]
     },
     "execution_count": 12,
     "metadata": {},
     "output_type": "execute_result"
    }
   ],
   "source": [
    "df_purchase.head()"
   ]
  },
  {
   "cell_type": "code",
   "execution_count": 14,
   "id": "3034f697-0f58-45cc-bc47-343b5028074f",
   "metadata": {},
   "outputs": [
    {
     "name": "stdout",
     "output_type": "stream",
     "text": [
      "<class 'pandas.core.frame.DataFrame'>\n",
      "RangeIndex: 2455864 entries, 0 to 2455863\n",
      "Data columns (total 4 columns):\n",
      " #   Column         Dtype  \n",
      "---  ------         -----  \n",
      " 0   PURCHASE_DATE  object \n",
      " 1   MAGIC_KEY      object \n",
      " 2   BOX_ID         float64\n",
      " 3   BOX_COUNT      float64\n",
      "dtypes: float64(2), object(2)\n",
      "memory usage: 74.9+ MB\n"
     ]
    }
   ],
   "source": [
    "df_purchase.info()"
   ]
  },
  {
   "cell_type": "markdown",
   "id": "572598c3-6619-4dbe-8b56-3387a87f5cdc",
   "metadata": {},
   "source": [
    "# <font color=\"red\">Checking Null Value</font>"
   ]
  },
  {
   "cell_type": "code",
   "execution_count": 15,
   "id": "3bb6cb50-f7d3-4ac8-950d-b862a930e866",
   "metadata": {},
   "outputs": [
    {
     "data": {
      "text/plain": [
       "PURCHASE_DATE     0\n",
       "MAGIC_KEY         0\n",
       "BOX_ID           47\n",
       "BOX_COUNT        47\n",
       "dtype: int64"
      ]
     },
     "execution_count": 15,
     "metadata": {},
     "output_type": "execute_result"
    }
   ],
   "source": [
    "df_purchase.isnull().sum()"
   ]
  },
  {
   "cell_type": "markdown",
   "id": "b3791950-2050-4e7b-bb1d-60746364a523",
   "metadata": {},
   "source": [
    "=> we have some null value, we need to fix these\\\n",
    "=> as we have enough large datasets, we can remove these row, no need to fill"
   ]
  },
  {
   "cell_type": "code",
   "execution_count": 16,
   "id": "3847480d-7476-4db2-b3ae-2ffd0c45e0db",
   "metadata": {},
   "outputs": [
    {
     "data": {
      "text/plain": [
       "2455864"
      ]
     },
     "execution_count": 16,
     "metadata": {},
     "output_type": "execute_result"
    }
   ],
   "source": [
    "len(df_purchase)"
   ]
  },
  {
   "cell_type": "code",
   "execution_count": 18,
   "id": "91754518-dccc-4c27-868e-1109d15e10ad",
   "metadata": {},
   "outputs": [],
   "source": [
    "for x in df_purchase.columns: #running loop for reducing the code line\n",
    "    df_purchase.dropna(subset = [x], inplace = True) #droping the row that present null value"
   ]
  },
  {
   "cell_type": "code",
   "execution_count": 19,
   "id": "f84356c2-223d-41a9-a373-d22a5dddfff1",
   "metadata": {},
   "outputs": [
    {
     "data": {
      "text/plain": [
       "2455817"
      ]
     },
     "execution_count": 19,
     "metadata": {},
     "output_type": "execute_result"
    }
   ],
   "source": [
    "len(df_purchase)"
   ]
  },
  {
   "cell_type": "code",
   "execution_count": 20,
   "id": "96f1fea6-b269-4bc0-bc18-24d1304662e6",
   "metadata": {},
   "outputs": [
    {
     "data": {
      "text/plain": [
       "47"
      ]
     },
     "execution_count": 20,
     "metadata": {},
     "output_type": "execute_result"
    }
   ],
   "source": [
    "2455864-2455817"
   ]
  },
  {
   "cell_type": "markdown",
   "id": "abf0712d-0821-4046-9e91-c1189b9bdeb3",
   "metadata": {},
   "source": [
    "=> 47 row dropped"
   ]
  },
  {
   "cell_type": "markdown",
   "id": "6833330a-2dea-4f14-8443-d71100aa092a",
   "metadata": {},
   "source": [
    "# <font color=\"red\">Checking duplicate</font>"
   ]
  },
  {
   "cell_type": "code",
   "execution_count": 41,
   "id": "6f555355-8979-43b3-b467-ae13e1991e1e",
   "metadata": {},
   "outputs": [
    {
     "data": {
      "text/plain": [
       "77"
      ]
     },
     "execution_count": 41,
     "metadata": {},
     "output_type": "execute_result"
    }
   ],
   "source": [
    "duplicates =  df_purchase[df_purchase.duplicated(keep='first')] #it will return the duplicated row from the datasets\n",
    "len(duplicates)"
   ]
  },
  {
   "cell_type": "code",
   "execution_count": 42,
   "id": "e65318d0-1d53-4a6c-8597-20259bd03b44",
   "metadata": {},
   "outputs": [
    {
     "data": {
      "text/plain": [
       "2455740"
      ]
     },
     "execution_count": 42,
     "metadata": {},
     "output_type": "execute_result"
    }
   ],
   "source": [
    "df_purchase = df_purchase.drop_duplicates() #this method will return the dataset with no duplicate row\n",
    "len(df_purchase)"
   ]
  },
  {
   "cell_type": "code",
   "execution_count": null,
   "id": "5fdf3200-8ad0-4dcf-bf6f-9fbd47e3234b",
   "metadata": {},
   "outputs": [],
   "source": []
  },
  {
   "cell_type": "markdown",
   "id": "59abadec-95e9-43ba-88af-1e90753a09f1",
   "metadata": {},
   "source": [
    "# <font color=\"red\">Checking outlier</font>"
   ]
  },
  {
   "cell_type": "code",
   "execution_count": 43,
   "id": "f5b4aaf2-51d9-428c-b2f7-7b8f1f747770",
   "metadata": {},
   "outputs": [
    {
     "data": {
      "text/html": [
       "<div>\n",
       "<style scoped>\n",
       "    .dataframe tbody tr th:only-of-type {\n",
       "        vertical-align: middle;\n",
       "    }\n",
       "\n",
       "    .dataframe tbody tr th {\n",
       "        vertical-align: top;\n",
       "    }\n",
       "\n",
       "    .dataframe thead th {\n",
       "        text-align: right;\n",
       "    }\n",
       "</style>\n",
       "<table border=\"1\" class=\"dataframe\">\n",
       "  <thead>\n",
       "    <tr style=\"text-align: right;\">\n",
       "      <th></th>\n",
       "      <th>BOX_ID</th>\n",
       "      <th>BOX_COUNT</th>\n",
       "    </tr>\n",
       "  </thead>\n",
       "  <tbody>\n",
       "    <tr>\n",
       "      <th>count</th>\n",
       "      <td>2.455740e+06</td>\n",
       "      <td>2.455740e+06</td>\n",
       "    </tr>\n",
       "    <tr>\n",
       "      <th>mean</th>\n",
       "      <td>2.308848e+02</td>\n",
       "      <td>1.001112e+00</td>\n",
       "    </tr>\n",
       "    <tr>\n",
       "      <th>std</th>\n",
       "      <td>2.923375e+04</td>\n",
       "      <td>4.450451e-02</td>\n",
       "    </tr>\n",
       "    <tr>\n",
       "      <th>min</th>\n",
       "      <td>1.000000e+00</td>\n",
       "      <td>-1.000000e+00</td>\n",
       "    </tr>\n",
       "    <tr>\n",
       "      <th>25%</th>\n",
       "      <td>1.060000e+02</td>\n",
       "      <td>1.000000e+00</td>\n",
       "    </tr>\n",
       "    <tr>\n",
       "      <th>50%</th>\n",
       "      <td>1.430000e+02</td>\n",
       "      <td>1.000000e+00</td>\n",
       "    </tr>\n",
       "    <tr>\n",
       "      <th>75%</th>\n",
       "      <td>2.150000e+02</td>\n",
       "      <td>1.000000e+00</td>\n",
       "    </tr>\n",
       "    <tr>\n",
       "      <th>max</th>\n",
       "      <td>1.111111e+07</td>\n",
       "      <td>1.900000e+01</td>\n",
       "    </tr>\n",
       "  </tbody>\n",
       "</table>\n",
       "</div>"
      ],
      "text/plain": [
       "             BOX_ID     BOX_COUNT\n",
       "count  2.455740e+06  2.455740e+06\n",
       "mean   2.308848e+02  1.001112e+00\n",
       "std    2.923375e+04  4.450451e-02\n",
       "min    1.000000e+00 -1.000000e+00\n",
       "25%    1.060000e+02  1.000000e+00\n",
       "50%    1.430000e+02  1.000000e+00\n",
       "75%    2.150000e+02  1.000000e+00\n",
       "max    1.111111e+07  1.900000e+01"
      ]
     },
     "execution_count": 43,
     "metadata": {},
     "output_type": "execute_result"
    }
   ],
   "source": [
    "df_purchase.describe()"
   ]
  },
  {
   "cell_type": "markdown",
   "id": "8ab68636-ac66-4e42-837a-c67aef69642c",
   "metadata": {},
   "source": [
    "=> we have some outlier, need to fix these"
   ]
  },
  {
   "cell_type": "code",
   "execution_count": null,
   "id": "20008476-25e9-4690-b15c-69d57e42cdfb",
   "metadata": {},
   "outputs": [],
   "source": []
  }
 ],
 "metadata": {
  "kernelspec": {
   "display_name": "Python 3 (ipykernel)",
   "language": "python",
   "name": "python3"
  },
  "language_info": {
   "codemirror_mode": {
    "name": "ipython",
    "version": 3
   },
   "file_extension": ".py",
   "mimetype": "text/x-python",
   "name": "python",
   "nbconvert_exporter": "python",
   "pygments_lexer": "ipython3",
   "version": "3.12.1"
  }
 },
 "nbformat": 4,
 "nbformat_minor": 5
}
