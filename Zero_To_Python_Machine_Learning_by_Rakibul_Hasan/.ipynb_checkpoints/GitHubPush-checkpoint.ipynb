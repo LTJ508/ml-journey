{
 "cells": [
  {
   "cell_type": "markdown",
   "id": "402993c5-5ccb-46f1-b07c-bc159508bfe2",
   "metadata": {},
   "source": [
    "# GitHub Push from Jupyter Lab Directly"
   ]
  },
  {
   "cell_type": "code",
   "execution_count": null,
   "id": "d949c181-463b-4d89-b792-0ea482b065f7",
   "metadata": {},
   "outputs": [],
   "source": [
    "!git add .\n",
    "!git commit -m \"Template for git push from notebook\"\n",
    "!git push origin main"
   ]
  }
 ],
 "metadata": {
  "kernelspec": {
   "display_name": "Python 3 (ipykernel)",
   "language": "python",
   "name": "python3"
  },
  "language_info": {
   "codemirror_mode": {
    "name": "ipython",
    "version": 3
   },
   "file_extension": ".py",
   "mimetype": "text/x-python",
   "name": "python",
   "nbconvert_exporter": "python",
   "pygments_lexer": "ipython3",
   "version": "3.12.1"
  }
 },
 "nbformat": 4,
 "nbformat_minor": 5
}
