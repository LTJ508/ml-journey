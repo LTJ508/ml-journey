{
 "cells": [
  {
   "cell_type": "markdown",
   "id": "807b7651-7f7a-4fa8-bfbb-7fa7dc020ced",
   "metadata": {},
   "source": [
    "# Chapter 05\n",
    "## Model Evaluation and Two Algorithm"
   ]
  },
  {
   "cell_type": "markdown",
   "id": "6d94efb7-126f-449f-9c34-20aa6f8be6fd",
   "metadata": {},
   "source": [
    "## Evaluation 1"
   ]
  },
  {
   "cell_type": "markdown",
   "id": "0a8f173e-a805-4574-88a5-b2b22d4c1858",
   "metadata": {},
   "source": [
    "## Using one dataset for training and test is prohibited"
   ]
  },
  {
   "cell_type": "markdown",
   "id": "16d40e84-372e-498d-bc6f-969f96685749",
   "metadata": {},
   "source": [
    "### Lets try to use one dataset for training and test and experience what happens"
   ]
  },
  {
   "cell_type": "code",
   "execution_count": 23,
   "id": "a43fbaeb-5329-44c5-b004-7015b6d9cfac",
   "metadata": {},
   "outputs": [],
   "source": [
    "import numpy as np\n",
    "import pandas as pd"
   ]
  },
  {
   "cell_type": "code",
   "execution_count": 24,
   "id": "0c27d4e2-89e9-4319-ac95-a60f5e442d2c",
   "metadata": {},
   "outputs": [],
   "source": [
    "#loading iris dataset\n",
    "from sklearn.datasets import load_iris\n",
    "iris = load_iris()\n",
    "\n",
    "#defining feature and target\n",
    "X = iris.data\n",
    "y = iris.target"
   ]
  },
  {
   "cell_type": "markdown",
   "id": "4fb252cc-6a8e-405d-8e94-d7455cef428e",
   "metadata": {},
   "source": [
    "# using KNeighborsClassifer with neighbors 3"
   ]
  },
  {
   "cell_type": "code",
   "execution_count": 25,
   "id": "e69b2697-c367-408f-89c9-3f78357c199a",
   "metadata": {},
   "outputs": [
    {
     "data": {
      "text/plain": [
       "array([0, 0, 0, 0, 0, 0, 0, 0, 0, 0, 0, 0, 0, 0, 0, 0, 0, 0, 0, 0, 0, 0,\n",
       "       0, 0, 0, 0, 0, 0, 0, 0, 0, 0, 0, 0, 0, 0, 0, 0, 0, 0, 0, 0, 0, 0,\n",
       "       0, 0, 0, 0, 0, 0, 1, 1, 1, 1, 1, 1, 1, 1, 1, 1, 1, 1, 1, 1, 1, 1,\n",
       "       1, 1, 1, 1, 2, 1, 2, 1, 1, 1, 1, 1, 1, 1, 1, 1, 1, 2, 1, 1, 1, 1,\n",
       "       1, 1, 1, 1, 1, 1, 1, 1, 1, 1, 1, 1, 2, 2, 2, 2, 2, 2, 1, 2, 2, 2,\n",
       "       2, 2, 2, 2, 2, 2, 2, 2, 2, 1, 2, 2, 2, 2, 2, 2, 2, 2, 2, 2, 2, 2,\n",
       "       2, 2, 2, 2, 2, 2, 2, 2, 2, 2, 2, 2, 2, 2, 2, 2, 2, 2])"
      ]
     },
     "execution_count": 25,
     "metadata": {},
     "output_type": "execute_result"
    }
   ],
   "source": [
    "from sklearn.neighbors import KNeighborsClassifier\n",
    "\n",
    "#intancetiate of the model\n",
    "knn = KNeighborsClassifier(n_neighbors = 5)\n",
    "\n",
    "#making the relation in model\n",
    "knn.fit(X, y)\n",
    "\n",
    "knn.predict(X) #predicting the model using the value given in x"
   ]
  },
  {
   "cell_type": "code",
   "execution_count": 26,
   "id": "44a74768-9f1a-473e-a7b1-c9d18f789703",
   "metadata": {},
   "outputs": [
    {
     "data": {
      "text/plain": [
       "array([ True,  True,  True,  True,  True,  True,  True,  True,  True,\n",
       "        True,  True,  True,  True,  True,  True,  True,  True,  True,\n",
       "        True,  True,  True,  True,  True,  True,  True,  True,  True,\n",
       "        True,  True,  True,  True,  True,  True,  True,  True,  True,\n",
       "        True,  True,  True,  True,  True,  True,  True,  True,  True,\n",
       "        True,  True,  True,  True,  True,  True,  True,  True,  True,\n",
       "        True,  True,  True,  True,  True,  True,  True,  True,  True,\n",
       "        True,  True,  True,  True,  True,  True,  True, False,  True,\n",
       "       False,  True,  True,  True,  True,  True,  True,  True,  True,\n",
       "        True,  True, False,  True,  True,  True,  True,  True,  True,\n",
       "        True,  True,  True,  True,  True,  True,  True,  True,  True,\n",
       "        True,  True,  True,  True,  True,  True,  True, False,  True,\n",
       "        True,  True,  True,  True,  True,  True,  True,  True,  True,\n",
       "        True,  True, False,  True,  True,  True,  True,  True,  True,\n",
       "        True,  True,  True,  True,  True,  True,  True,  True,  True,\n",
       "        True,  True,  True,  True,  True,  True,  True,  True,  True,\n",
       "        True,  True,  True,  True,  True,  True])"
      ]
     },
     "execution_count": 26,
     "metadata": {},
     "output_type": "execute_result"
    }
   ],
   "source": [
    "knn.predict(X) == y #matching with the actual label"
   ]
  },
  {
   "cell_type": "code",
   "execution_count": 27,
   "id": "a5677b6f-2020-4e4f-8f18-cafc4587736f",
   "metadata": {},
   "outputs": [
    {
     "data": {
      "text/plain": [
       "array([0, 0, 0, 0, 0])"
      ]
     },
     "execution_count": 27,
     "metadata": {},
     "output_type": "execute_result"
    }
   ],
   "source": [
    "#check first 5 item\n",
    "knn.predict(X)[0:5]"
   ]
  },
  {
   "cell_type": "code",
   "execution_count": 28,
   "id": "e397f643-b044-4db0-bcf5-f7ea6e75c02c",
   "metadata": {},
   "outputs": [
    {
     "data": {
      "text/plain": [
       "150"
      ]
     },
     "execution_count": 28,
     "metadata": {},
     "output_type": "execute_result"
    }
   ],
   "source": [
    "y_predicted = knn.predict(X) #storing the value\n",
    "\n",
    "len(y_predicted) #length of predicted item"
   ]
  },
  {
   "cell_type": "markdown",
   "id": "78bad861-e0ab-446a-a95e-6f32e4710484",
   "metadata": {},
   "source": [
    "## Now checking Accuracy using the score function"
   ]
  },
  {
   "cell_type": "code",
   "execution_count": 29,
   "id": "424d5e49-6870-44d4-9fde-872e6fb99aac",
   "metadata": {},
   "outputs": [
    {
     "data": {
      "text/plain": [
       "0.9666666666666667"
      ]
     },
     "execution_count": 29,
     "metadata": {},
     "output_type": "execute_result"
    }
   ],
   "source": [
    "knn.score(X, y)"
   ]
  },
  {
   "cell_type": "code",
   "execution_count": 30,
   "id": "ccbe8ca5-9ebe-423e-9809-62f5a5890f91",
   "metadata": {},
   "outputs": [
    {
     "data": {
      "text/plain": [
       "0.9666666666666667"
      ]
     },
     "execution_count": 30,
     "metadata": {},
     "output_type": "execute_result"
    }
   ],
   "source": [
    "from sklearn.metrics import accuracy_score\n",
    "accuracy_score(y, y_predicted) #comparing with the target and predicted data"
   ]
  },
  {
   "cell_type": "markdown",
   "id": "a9d997d6-4e47-44ef-9d67-65d169aeb848",
   "metadata": {},
   "source": [
    "# as we use one dataset for training and test, we can say that it is training accuracy\n",
    "## Thus, our training accuarcy is 96%"
   ]
  },
  {
   "cell_type": "code",
   "execution_count": 31,
   "id": "d988a243-d823-4a8b-a6fa-6d3424e512ab",
   "metadata": {},
   "outputs": [
    {
     "data": {
      "text/plain": [
       "0.9666666666666667"
      ]
     },
     "execution_count": 31,
     "metadata": {},
     "output_type": "execute_result"
    }
   ],
   "source": [
    "np.mean(y_predicted == y) #returns the mean of the boolean array, which already show you above, containing True and False"
   ]
  },
  {
   "cell_type": "code",
   "execution_count": 32,
   "id": "0fcb7cde-e26d-4270-9799-cfbb1fdb7428",
   "metadata": {},
   "outputs": [
    {
     "data": {
      "text/plain": [
       "array([[50,  0,  0],\n",
       "       [ 0, 47,  3],\n",
       "       [ 0,  2, 48]], dtype=int64)"
      ]
     },
     "execution_count": 32,
     "metadata": {},
     "output_type": "execute_result"
    }
   ],
   "source": [
    "#import confusion matrix\n",
    "from sklearn.metrics import confusion_matrix\n",
    "confusion_matrix(y, y_predicted)"
   ]
  },
  {
   "cell_type": "markdown",
   "id": "0cd98474-17bc-4e97-95da-a3aebe28e2d1",
   "metadata": {},
   "source": [
    "# lets check with the n_neighbors 1"
   ]
  },
  {
   "cell_type": "code",
   "execution_count": 33,
   "id": "1c76697d-f7f9-441c-8c1f-290d0e70c759",
   "metadata": {},
   "outputs": [
    {
     "data": {
      "text/plain": [
       "1.0"
      ]
     },
     "execution_count": 33,
     "metadata": {},
     "output_type": "execute_result"
    }
   ],
   "source": [
    "knn = KNeighborsClassifier(n_neighbors = 1)\n",
    "knn.fit(X, y)\n",
    "y_predicted = knn.predict(X)\n",
    "accuracy_score(y, y_predicted)"
   ]
  },
  {
   "cell_type": "markdown",
   "id": "96e28e8f-0c7b-40d7-97dc-4aea899fd77d",
   "metadata": {},
   "source": [
    "## wow 100% accuracy score\n",
    "### its not good, in this way it will be overfit model"
   ]
  },
  {
   "cell_type": "markdown",
   "id": "a2fc592d-3b32-4eba-a017-26b1596324cd",
   "metadata": {},
   "source": [
    "# Confusion Matrix"
   ]
  },
  {
   "cell_type": "markdown",
   "id": "a69eb99e-d201-469c-b9e1-bb13dea2d4ef",
   "metadata": {},
   "source": [
    "|                     | Predicted Positive | Predicted Negative |\n",
    "|---------------------|--------------------|--------------------|\n",
    "| Actual Positive     | True Positive (TP) | False Negative (FN)|\n",
    "| Actual Negative     | False Positive (FP)| True Negative (TN) |\n"
   ]
  },
  {
   "cell_type": "code",
   "execution_count": 34,
   "id": "2d26fbb2-7eae-4cd9-9693-de3de4b58792",
   "metadata": {},
   "outputs": [
    {
     "data": {
      "text/plain": [
       "array([[50,  0,  0],\n",
       "       [ 0, 50,  0],\n",
       "       [ 0,  0, 50]], dtype=int64)"
      ]
     },
     "execution_count": 34,
     "metadata": {},
     "output_type": "execute_result"
    }
   ],
   "source": [
    "#import confusion matrix\n",
    "from sklearn.metrics import confusion_matrix\n",
    "confusion_matrix(y, y_predicted)"
   ]
  },
  {
   "cell_type": "markdown",
   "id": "9345a336-dad5-4651-a226-0f64fd1e36dd",
   "metadata": {},
   "source": [
    "# <center><font size=\"50\" color=\"red\">Thank You</font></center>"
   ]
  },
  {
   "cell_type": "code",
   "execution_count": null,
   "id": "bf2341cd-2765-47f4-8303-37ff7b9eb573",
   "metadata": {},
   "outputs": [],
   "source": []
  }
 ],
 "metadata": {
  "kernelspec": {
   "display_name": "Python 3 (ipykernel)",
   "language": "python",
   "name": "python3"
  },
  "language_info": {
   "codemirror_mode": {
    "name": "ipython",
    "version": 3
   },
   "file_extension": ".py",
   "mimetype": "text/x-python",
   "name": "python",
   "nbconvert_exporter": "python",
   "pygments_lexer": "ipython3",
   "version": "3.12.1"
  }
 },
 "nbformat": 4,
 "nbformat_minor": 5
}
