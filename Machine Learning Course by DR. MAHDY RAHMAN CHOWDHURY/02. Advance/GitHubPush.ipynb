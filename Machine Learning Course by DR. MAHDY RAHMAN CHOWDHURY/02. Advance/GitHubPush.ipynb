{
 "cells": [
  {
   "cell_type": "markdown",
   "id": "402993c5-5ccb-46f1-b07c-bc159508bfe2",
   "metadata": {},
   "source": [
    "# GitHub Push from Jupyter Lab Directly"
   ]
  },
  {
   "cell_type": "markdown",
   "id": "5a117d24-e529-44e8-83a5-7732ddc3828f",
   "metadata": {},
   "source": [
    "!git add .\n",
    "!git commit -m \"Message\"\n",
    "!git push origin main"
   ]
  },
  {
   "cell_type": "markdown",
   "id": "1a197a78-ca1d-4214-82af-ba470262ae24",
   "metadata": {},
   "source": [
    "# <center><font size=\"50\" color=\"red\">Thank You</font></center>"
   ]
  },
  {
   "cell_type": "code",
   "execution_count": null,
   "id": "c81d0703-ac5f-4490-a590-6e20087884e8",
   "metadata": {},
   "outputs": [],
   "source": []
  }
 ],
 "metadata": {
  "kernelspec": {
   "display_name": "Python 3 (ipykernel)",
   "language": "python",
   "name": "python3"
  },
  "language_info": {
   "codemirror_mode": {
    "name": "ipython",
    "version": 3
   },
   "file_extension": ".py",
   "mimetype": "text/x-python",
   "name": "python",
   "nbconvert_exporter": "python",
   "pygments_lexer": "ipython3",
   "version": "3.12.1"
  }
 },
 "nbformat": 4,
 "nbformat_minor": 5
}
