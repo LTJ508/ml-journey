{
 "cells": [
  {
   "cell_type": "markdown",
   "id": "8cae6c03-7ec9-4e66-a015-678a239af94b",
   "metadata": {},
   "source": [
    "# <font color=\"red\">Lecture 08 - Logistic Regression Theory</font>"
   ]
  },
  {
   "cell_type": "markdown",
   "id": "15a5a0d4-59bd-45f0-bdd4-b47bca0b078c",
   "metadata": {},
   "source": [
    "### <font color=\"red\">Check Hand Notes Please</font>"
   ]
  },
  {
   "cell_type": "markdown",
   "id": "20bfd25f-e63f-44e4-8e8f-36c1ac2e31a1",
   "metadata": {},
   "source": [
    "# <font color=\"red\">Lecture 09 - Logistic Regression Code</font>"
   ]
  },
  {
   "cell_type": "markdown",
   "id": "4fcee063-b481-4280-ad8d-64b701accfbf",
   "metadata": {},
   "source": [
    "=>sorry for late start"
   ]
  },
  {
   "cell_type": "code",
   "execution_count": null,
   "id": "3ac54cc5-c11c-4c66-acea-acea060b08f5",
   "metadata": {},
   "outputs": [],
   "source": []
  }
 ],
 "metadata": {
  "kernelspec": {
   "display_name": "Python 3 (ipykernel)",
   "language": "python",
   "name": "python3"
  },
  "language_info": {
   "codemirror_mode": {
    "name": "ipython",
    "version": 3
   },
   "file_extension": ".py",
   "mimetype": "text/x-python",
   "name": "python",
   "nbconvert_exporter": "python",
   "pygments_lexer": "ipython3",
   "version": "3.12.1"
  }
 },
 "nbformat": 4,
 "nbformat_minor": 5
}
